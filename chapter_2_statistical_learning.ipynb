{
 "cells": [
  {
   "cell_type": "markdown",
   "id": "a775806c-a865-41ed-abb1-9e657b92d267",
   "metadata": {},
   "source": [
    "## Conceptual"
   ]
  },
  {
   "cell_type": "markdown",
   "id": "f2754d21-6bd1-4929-bb72-9797200ff574",
   "metadata": {},
   "source": [
    "### Question 1:\n",
    "\n",
    "For each of parts (a) through (d), indicate whether we would generally\n",
    "expect the performance of a fexible statistical learning method to be\n",
    "better or worse than an infexible method. Justify your answer.\n"
   ]
  },
  {
   "cell_type": "markdown",
   "id": "3795cf4d-8107-4ef2-af54-c18e253e63c6",
   "metadata": {},
   "source": [
    "**(a) The sample size n is extremely large, and the number of predictors p is small.**\n",
    "\n",
    "The performance of flexible statistical learning models will be **better** in this case. \n",
    "\n",
    "The large sample size(n) will provide abundent data to estimate the complex pattern in data more accurately(better fitting the data).  Also, the small number of predictors(p) will help reduce the problem of overfitting of data(dimentionality curse)."
   ]
  },
  {
   "cell_type": "markdown",
   "id": "470ed87e-6626-4a29-b06a-3fc72cb397e9",
   "metadata": {},
   "source": [
    "**(b) The number of predictors p is extremely large, and the number\n",
    "of observations n is small.**\n",
    "\n",
    "The performance of flexible statistical model will be **worse** in this case. Due to smaller number of observation(n) and extremely large predictors(p) flexible models suffer from overfitting issue."
   ]
  },
  {
   "cell_type": "markdown",
   "id": "3799894d-c020-4e56-a4ff-b4e7c1f6f3e5",
   "metadata": {},
   "source": [
    "**(c) The relationship between the predictors and response is highly\n",
    "non-linear.**\n",
    "\n",
    "In this case, we will expect flexible model to **perfrom** better as flexible models are good at modelling non-liner relationships. Also, the bias is smaller for flexible models when dealing with non-liner relationship.  If we use a stricter model, then the bias will be much higher."
   ]
  },
  {
   "cell_type": "markdown",
   "id": "fae7cf3e-8a2b-4600-baf2-24a0dac6e2ba",
   "metadata": {},
   "source": [
    "**(d) The variance of the error terms, i.e. σ2 = Var(\"), is extremely\n",
    "high.**\n",
    "\n",
    "In this case, we expect flexible model to perfrom **worse**. The variance increases as the flexibility increases."
   ]
  },
  {
   "cell_type": "markdown",
   "id": "0a677346-c4ca-44a2-829b-53844aa84370",
   "metadata": {},
   "source": [
    "### Question 2:\n",
    "\n",
    "Explain whether each scenario is a classifcation or regression prob\u0002lem, and indicate whether we are most interested in inference or prediction. Finally, provide n and p"
   ]
  },
  {
   "cell_type": "markdown",
   "id": "347bb730-61cd-4d03-9fad-e57501cc3fe7",
   "metadata": {},
   "source": [
    "**(a) We collect a set of data on the top 500 firms in the US. For each firm we record profit, number of employees, industry and the CEO Salary. We are interested in understanding which factors affect CEO Salary.** \n",
    "\n",
    "Here, n = 500 and p = 3.\n",
    "\n",
    "This is a regression problem and we are most interested in inference, as the goal is to understand which factors affect CEO salary.\n"
   ]
  },
  {
   "cell_type": "markdown",
   "id": "66769c10-400f-48a9-851b-c9e9c1bc7241",
   "metadata": {},
   "source": [
    "**(b) We are considering launching a new product and wish to know whether it will be a success or failure. We collect data on 20 similar products that were priviously launched. For each product we have recorded whether it was a success or failure, price charged for the product, marketing budget, competition price, and ten other variables.**\n",
    "\n",
    "Here, n=20 and p=13\n",
    "\n",
    "This is a classification problem, as we are trying to predict a binary outcome (success or failure). We are interested in making prediction."
   ]
  },
  {
   "cell_type": "markdown",
   "id": "c0531b1a-95dd-463d-938d-9ffd85673a81",
   "metadata": {},
   "source": [
    "**(c) We are interested in predicting the % change in the USD/Euro exchange rate in relation to the weekly change in the world stock markets. Hence we collect weekly data for all of 2012. For each week we record the % change in the USD/Euro, the % change in the US market, the % change in the British market, and the % change in the German market.** \n",
    "\n",
    "Here, n=52 and p=3\n",
    "\n",
    "This is a regression problem, as we are trying to predict a continuous variable (% change in USD/Euro exchange rate). We are interested in making prediction."
   ]
  },
  {
   "cell_type": "code",
   "execution_count": null,
   "id": "074973d2-f55b-437e-b944-f2ad9f76a737",
   "metadata": {},
   "outputs": [],
   "source": []
  }
 ],
 "metadata": {
  "kernelspec": {
   "display_name": "Python 3 (ipykernel)",
   "language": "python",
   "name": "python3"
  },
  "language_info": {
   "codemirror_mode": {
    "name": "ipython",
    "version": 3
   },
   "file_extension": ".py",
   "mimetype": "text/x-python",
   "name": "python",
   "nbconvert_exporter": "python",
   "pygments_lexer": "ipython3",
   "version": "3.12.2"
  }
 },
 "nbformat": 4,
 "nbformat_minor": 5
}
