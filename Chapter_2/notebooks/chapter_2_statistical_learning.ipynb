{
 "cells": [
  {
   "cell_type": "markdown",
   "id": "a775806c-a865-41ed-abb1-9e657b92d267",
   "metadata": {},
   "source": [
    "## Conceptual"
   ]
  },
  {
   "cell_type": "markdown",
   "id": "f2754d21-6bd1-4929-bb72-9797200ff574",
   "metadata": {},
   "source": [
    "### Question 1:\n",
    "\n",
    "For each of parts (a) through (d), indicate whether we would generally\n",
    "expect the performance of a fexible statistical learning method to be\n",
    "better or worse than an infexible method. Justify your answer.\n"
   ]
  },
  {
   "cell_type": "markdown",
   "id": "3795cf4d-8107-4ef2-af54-c18e253e63c6",
   "metadata": {},
   "source": [
    "**(a) The sample size n is extremely large, and the number of predictors p is small.**\n",
    "\n",
    "The performance of flexible statistical learning models will be **better** in this case. \n",
    "\n",
    "The large sample size(n) will provide abundent data to estimate the complex pattern in data more accurately(better fitting the data).  Also, the small number of predictors(p) will help reduce the problem of overfitting of data(dimentionality curse)."
   ]
  },
  {
   "cell_type": "markdown",
   "id": "470ed87e-6626-4a29-b06a-3fc72cb397e9",
   "metadata": {},
   "source": [
    "**(b) The number of predictors p is extremely large, and the number\n",
    "of observations n is small.**\n",
    "\n",
    "The performance of flexible statistical model will be **worse** in this case. Due to smaller number of observation(n) and extremely large predictors(p) flexible models suffer from overfitting issue."
   ]
  },
  {
   "cell_type": "markdown",
   "id": "3799894d-c020-4e56-a4ff-b4e7c1f6f3e5",
   "metadata": {},
   "source": [
    "**(c) The relationship between the predictors and response is highly\n",
    "non-linear.**\n",
    "\n",
    "In this case, we will expect flexible model to **perfrom** better as flexible models are good at modelling non-liner relationships. Also, the bias is smaller for flexible models when dealing with non-liner relationship.  If we use a stricter model, then the bias will be much higher."
   ]
  },
  {
   "cell_type": "markdown",
   "id": "fae7cf3e-8a2b-4600-baf2-24a0dac6e2ba",
   "metadata": {},
   "source": [
    "**(d) The variance of the error terms, i.e. σ2 = Var(\"), is extremely\n",
    "high.**\n",
    "\n",
    "In this case, we expect flexible model to perfrom **worse**. The variance increases as the flexibility increases."
   ]
  },
  {
   "cell_type": "markdown",
   "id": "0a677346-c4ca-44a2-829b-53844aa84370",
   "metadata": {},
   "source": [
    "### Question 2:\n",
    "\n",
    "Explain whether each scenario is a classifcation or regression prob\u0002lem, and indicate whether we are most interested in inference or prediction. Finally, provide n and p"
   ]
  },
  {
   "cell_type": "markdown",
   "id": "347bb730-61cd-4d03-9fad-e57501cc3fe7",
   "metadata": {},
   "source": [
    "**(a) We collect a set of data on the top 500 firms in the US. For each firm we record profit, number of employees, industry and the CEO Salary. We are interested in understanding which factors affect CEO Salary.** \n",
    "\n",
    "Here, n = 500 and p = 3.\n",
    "\n",
    "This is a regression problem and we are most interested in inference, as the goal is to understand which factors affect CEO salary.\n"
   ]
  },
  {
   "cell_type": "markdown",
   "id": "66769c10-400f-48a9-851b-c9e9c1bc7241",
   "metadata": {},
   "source": [
    "**(b) We are considering launching a new product and wish to know whether it will be a success or failure. We collect data on 20 similar products that were priviously launched. For each product we have recorded whether it was a success or failure, price charged for the product, marketing budget, competition price, and ten other variables.**\n",
    "\n",
    "Here, n=20 and p=13\n",
    "\n",
    "This is a classification problem, as we are trying to predict a binary outcome (success or failure). We are interested in making prediction."
   ]
  },
  {
   "cell_type": "markdown",
   "id": "c0531b1a-95dd-463d-938d-9ffd85673a81",
   "metadata": {},
   "source": [
    "**(c) We are interested in predicting the % change in the USD/Euro exchange rate in relation to the weekly change in the world stock markets. Hence we collect weekly data for all of 2012. For each week we record the % change in the USD/Euro, the % change in the US market, the % change in the British market, and the % change in the German market.** \n",
    "\n",
    "Here, n=52 and p=3\n",
    "\n",
    "This is a regression problem, as we are trying to predict a continuous variable (% change in USD/Euro exchange rate). We are interested in making prediction."
   ]
  },
  {
   "cell_type": "markdown",
   "id": "1091eafc-3492-4228-85f5-bbfa976d1468",
   "metadata": {},
   "source": []
  },
  {
   "cell_type": "markdown",
   "id": "e0dbe6dd-25e1-4b32-afbe-42d0d2765194",
   "metadata": {},
   "source": []
  },
  {
   "cell_type": "markdown",
   "id": "002d7077-2918-4759-9b0f-039d8d5af963",
   "metadata": {},
   "source": []
  },
  {
   "cell_type": "markdown",
   "id": "6e38501f-5319-4af1-bf3a-87646f29b5fe",
   "metadata": {},
   "source": [
    "### Question 3:\n",
    "\n",
    "We now revisit bias-variance decomposition."
   ]
  },
  {
   "cell_type": "markdown",
   "id": "51ab637b-d276-48b3-a22b-cbff23e155c2",
   "metadata": {},
   "source": [
    "**(a) Provide a sketch of typical (squared) bias, variance, training error, test error, and Bayes (or irreducible) error curves, on a single plot, as we got for less flexible statistical learning methods towards more flexible approaches. The x-axis should represent the amount of flexiblity in the method, and the y-axis should represent the values for each curve. There should be five curves. Make sure to label each one.**\n",
    "\n",
    "\n",
    "Will add the graph from Ipad Later"
   ]
  },
  {
   "cell_type": "markdown",
   "id": "709249fe-bbd0-448e-8370-a15e9572c9da",
   "metadata": {},
   "source": [
    "**(b) Explain why each  of the five curves has the shape displayed in part (a).**\n",
    "\n",
    "**Squared bias:** Bias is introduced because our approximation(function which we assumed to explain the underlying relationship) is different than the true underlying relationship. \n",
    "For example, assuming the relationship is linear when the true underlying relationsip is not.\n",
    "As the model gets flexible, the function will be more and more similar to the true underlying function                   reducing the squared bias.\n",
    "\n",
    "**Variance:** The variance is the difference between the predicted value and the actual one. As the model gets flexibe, it fits the data more closely by capturing intricate patterns and relationship in data. Due to this, even a slight change to data point will increase variance.\n",
    "\n",
    "**Training Error:** Trainig error is given by the average of the difference between the predicted value and actual value.                    Flexible models fit the data better than the inflexible models, hence reducing the Training error.\n",
    "\n",
    "**Test Error:** The Expected test error is given by the formula, \n",
    "\n",
    "            Test Error = Variance + Bias + Irreducible Error \n",
    "            \n",
    "\n",
    "The Test error follows a u-shaped curve. Initially, the test error decreases as the flexibility increases, but will start to rise again after a certain point. This is because, flexible models has high variance. The test error will be the lowest, if the each of the above values are less. \n",
    "\n",
    "**Bayes (or Irreducible) error curve:** This is a constant value and is not dependent on the predictors or the flexibility of the statistical model.\n",
    "\n",
    "\n",
    "        "
   ]
  },
  {
   "cell_type": "markdown",
   "id": "5d5e3442-d863-4e9e-a5f7-49cdfa5ae381",
   "metadata": {},
   "source": [
    "### Question 4:\n",
    "\n",
    "You will now think of some real-life applications for statistical learning.\n",
    "\n",
    "\n"
   ]
  },
  {
   "cell_type": "markdown",
   "id": "d4591f96-8c5f-4645-a5f8-5bd9f8e4308c",
   "metadata": {},
   "source": [
    "**(a) Describe three real-life applications in which *classification* might be useful. Describe the response, as well as the predictores. Is the goal of each application inference or prediction? Explain your answer.**\n",
    "\n",
    "The three real-life applications:\n",
    "\n",
    "1. Based on life-style choices and heridietary factors, classifying weather the person is likely to get diabeties or not.\n",
    "   \n",
    "   The goal is to make **prediction.**\n",
    "   \n",
    "   Possible predictors: age, gender, Ethnicity, BMI, Blood Pressure, Family history of diabeties, average sleep duration,     average physical activity duration, smoker, alcohol consumption.\n",
    "\n",
    "   Response variable(binary): 1 for likely to have diabetes, 0 for otherwise\n",
    "\n",
    "2. Predicting Customer Churn in subscription based services like Netflix\n",
    "   The goal is to make **prediction**\n",
    "\n",
    "   Possible predictors: date_joined, frequency_of_use, subscription_amount, average_watch_hours, watch_list_count\n",
    "\n",
    "   Response Variable(binary): 1 for likely to leave, 0 for otherwise\n",
    "\n",
    "3. Detecting fraudulent  Financial Transactions:\n",
    "\n",
    "   The goal is to make **prediction**\n",
    "\n",
    "   Possible predictors: Transaction Amount, Time of Transaction, Geographical Location, Transaction frequency, login_in_device_id\n",
    "\n",
    "   Response Variable(binary): 1 for legitimate , 0 for fraudalent\n",
    "\n",
    "   "
   ]
  },
  {
   "cell_type": "markdown",
   "id": "da48052a-0314-43fa-908e-82ecca2e7fa0",
   "metadata": {},
   "source": [
    "**(b) Describe three real-life applications in which regression might be useful. Describe the response, as well as the predictors. Is the goal of each application inference or prediction? Explain your answer.**\n",
    "\n",
    "1. Identifying factors associated with customer purchasing behaviour in ecommerce platform\n",
    "\n",
    "   The goal is to make **Inference** \n",
    "\n",
    "   Possible Predictors: past_purchase_behaviour, number_of_marketing_emails_opened, time_spent_in_seconds_in_website, customer_age, number_of_time_item__is_viewed.\n",
    "\n",
    "    Response Variable: Identifying which predictors are most likely to influence the purchasing behaviour.\n",
    "\n",
    "2. Rental Price prediction for apartments in London\n",
    "\n",
    "   The goal is to make **prediction** and **Inference**\n",
    "\n",
    "   Possible Predictors: no_of_bedrooms, no_of_baths, total_area, parking_space, no_of_balcony, kitchen_type(modern, traditional), council_tax_band, enery_rating_band, has_living_space, furnished\n",
    "\n",
    "   Response Variable: Price (if prediciton) and Identifying which predictors are most likely to influence purchasing behaviour(if inference)\n",
    "\n",
    "3. Predicting cost of living index based on economic factors.\n",
    "\n",
    "   The goal is to make **inference** and **prediction**\n",
    "\n",
    "   Possible Predictors: Inflation rate, avg_housing_price, energy_prices, food_prices, unemployment_rate, average_wage_growth\n",
    "\n",
    "   Response Variable: cost of living index(prediction) and identifying which predictors has most significant impact on the cost of living\n",
    "\n",
    "   "
   ]
  },
  {
   "cell_type": "markdown",
   "id": "40b2dc12-042b-420a-a7ec-27b4037f6a1b",
   "metadata": {},
   "source": [
    "**(c) Describe three real_life applications in which *cluster analysis* is useful.**\n",
    "\n",
    "1. Recommendation system used for streaming platfroms like Netflix, Disney +, Youtube to recommend your next watch based on your browsing histroy, reviews, ratings.\n",
    "2. Cluster Analysis for grouping customers into different segments based on their purchasing habit like category_of_purchase, purchasing_amount, return/refund types and frequency\n",
    "3. Clustering differnt treaking routes in Nepal based on popularity amongst the treakers."
   ]
  },
  {
   "cell_type": "code",
   "execution_count": null,
   "id": "65ec12f4-4bba-4f13-83da-81b728373ae0",
   "metadata": {},
   "outputs": [],
   "source": []
  }
 ],
 "metadata": {
  "kernelspec": {
   "display_name": "Python 3 (ipykernel)",
   "language": "python",
   "name": "python3"
  },
  "language_info": {
   "codemirror_mode": {
    "name": "ipython",
    "version": 3
   },
   "file_extension": ".py",
   "mimetype": "text/x-python",
   "name": "python",
   "nbconvert_exporter": "python",
   "pygments_lexer": "ipython3",
   "version": "3.12.2"
  }
 },
 "nbformat": 4,
 "nbformat_minor": 5
}
